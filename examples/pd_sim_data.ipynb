{
 "metadata": {
  "name": "pd_sim_data"
 },
 "nbformat": 3,
 "nbformat_minor": 0,
 "worksheets": [
  {
   "cells": [
    {
     "cell_type": "markdown",
     "metadata": {},
     "source": [
      "A motivating example: descriptive epidemiological meta-regression of Parkinson's Disease\n",
      "========================================================================================\n",
      "\n",
      "The goal of this document it give a concise demonstration of the \n",
      "strengths and limitations of DisMod-MR, the descriptive\n",
      "epidemiological meta-regression tool developed for the Global Burden of Disease,\n",
      "Injuries, and Risk Factors 2010 (GBD2010) Study."
     ]
    },
    {
     "cell_type": "markdown",
     "metadata": {},
     "source": [
      "A systematic review of PD was conducted as part of the GBD 2010\n",
      "Study. The results of this\n",
      "review---data on the prevalence, incidence, and standardized mortality ratio of\n",
      "PD---needed to be combined to produce estimates of disease prevalence by\n",
      "region, age, sex, and year.  These prevalence estimates were combined\n",
      "with disability weights to measure years lived with disability (YLDs),\n",
      "which were then combined with estimates of years of life lost (YLLs)\n",
      "to produce estimates of the burden of PD quantified in disability-adjusted life-years (DALYs).\n",
      "\n",
      "PD is a neurodegenerative disorder that includes symptoms of motor\n",
      "dysfunction, such as tremors, rigidity, and akinesia, in the early\n",
      "stages of the disease.  As the disease develops, most patients also\n",
      "develop nonmotor symptoms, such as cognitive decline, dementia,\n",
      "autonomic failure, and disordered sleep-wake regulation.  The standard\n",
      "definition for PD diagnosis includes at least two of four cardinal\n",
      "signs---resting tremor, bradykinesia, rigidity, and postural abnormalities.\n",
      "There is no cure or treatments to slow the progression of the disease;\n",
      "however, motor symptoms and disability may be improved with\n",
      "symptomatic therapy."
     ]
    },
    {
     "cell_type": "markdown",
     "metadata": {},
     "source": [
      "This document works with simulated data, so that the dataset is fully distributable.  This data is included for understanding how to use DisMod-MR, and is not intended for the study of the descriptive epidemiology of PD."
     ]
    },
    {
     "cell_type": "code",
     "collapsed": false,
     "input": [
      "import dismod_mr\n",
      "import pymc as mc, pandas as pd"
     ],
     "language": "python",
     "metadata": {},
     "outputs": [],
     "prompt_number": 1
    },
    {
     "cell_type": "markdown",
     "metadata": {},
     "source": [
      "\n",
      "DisMod-MR uses the integrative systems modeling (ISM) approach to produce simultaneous\n",
      "estimates of disease incidence, prevalence, remission, and mortality. The hallmark of\n",
      "ISM is incorporating all available data.  In the case of Parkinson's Disease this\n",
      "consists of population level measurements of incidence, prevalence, standardized mortality rate (SMR),\n",
      "and cause-specific mortality rate (CSMR).\n",
      "\n",
      "I will begin with a look at a subset of this data, however.  Only that from females in the Europe, Western GBD region."
     ]
    },
    {
     "cell_type": "code",
     "collapsed": false,
     "input": [
      "model = dismod_mr.data.load('pd_sim_data')\n",
      "model.keep(areas=['europe_western'], sexes=['female', 'total'])"
     ],
     "language": "python",
     "metadata": {},
     "outputs": [
      {
       "output_type": "stream",
       "stream": "stdout",
       "text": [
        "kept 348 rows of data\n"
       ]
      }
     ],
     "prompt_number": 2
    },
    {
     "cell_type": "markdown",
     "metadata": {},
     "source": [
      "Of the 348 rows of data, here is how the values breakdown by data type:"
     ]
    },
    {
     "cell_type": "code",
     "collapsed": false,
     "input": [
      "summary = model.input_data.groupby('data_type')['value'].describe()\n",
      "round_(summary,3).unstack().sort('count', ascending=False)"
     ],
     "language": "python",
     "metadata": {},
     "outputs": [
      {
       "html": [
        "<div style=\"max-height:1000px;max-width:1500px;overflow:auto;\">\n",
        "<table border=\"1\" class=\"dataframe\">\n",
        "  <thead>\n",
        "    <tr style=\"text-align: right;\">\n",
        "      <th></th>\n",
        "      <th>count</th>\n",
        "      <th>mean</th>\n",
        "      <th>std</th>\n",
        "      <th>min</th>\n",
        "      <th>25%</th>\n",
        "      <th>50%</th>\n",
        "      <th>75%</th>\n",
        "      <th>max</th>\n",
        "    </tr>\n",
        "    <tr>\n",
        "      <th>data_type</th>\n",
        "      <th></th>\n",
        "      <th></th>\n",
        "      <th></th>\n",
        "      <th></th>\n",
        "      <th></th>\n",
        "      <th></th>\n",
        "      <th></th>\n",
        "      <th></th>\n",
        "    </tr>\n",
        "  </thead>\n",
        "  <tbody>\n",
        "    <tr>\n",
        "      <th>p</th>\n",
        "      <td> 226</td>\n",
        "      <td> 0.005</td>\n",
        "      <td> 0.008</td>\n",
        "      <td> 0.000</td>\n",
        "      <td> 0.000</td>\n",
        "      <td> 0.003</td>\n",
        "      <td> 0.007</td>\n",
        "      <td> 0.052</td>\n",
        "    </tr>\n",
        "    <tr>\n",
        "      <th>m_all</th>\n",
        "      <td>  44</td>\n",
        "      <td> 0.060</td>\n",
        "      <td> 0.125</td>\n",
        "      <td> 0.000</td>\n",
        "      <td> 0.000</td>\n",
        "      <td> 0.003</td>\n",
        "      <td> 0.033</td>\n",
        "      <td> 0.500</td>\n",
        "    </tr>\n",
        "    <tr>\n",
        "      <th>csmr</th>\n",
        "      <td>  39</td>\n",
        "      <td> 0.000</td>\n",
        "      <td> 0.000</td>\n",
        "      <td> 0.000</td>\n",
        "      <td> 0.000</td>\n",
        "      <td> 0.000</td>\n",
        "      <td> 0.000</td>\n",
        "      <td> 0.001</td>\n",
        "    </tr>\n",
        "    <tr>\n",
        "      <th>i</th>\n",
        "      <td>  33</td>\n",
        "      <td> 0.001</td>\n",
        "      <td> 0.001</td>\n",
        "      <td> 0.000</td>\n",
        "      <td> 0.000</td>\n",
        "      <td> 0.000</td>\n",
        "      <td> 0.001</td>\n",
        "      <td> 0.008</td>\n",
        "    </tr>\n",
        "    <tr>\n",
        "      <th>smr</th>\n",
        "      <td>   6</td>\n",
        "      <td> 1.762</td>\n",
        "      <td> 0.672</td>\n",
        "      <td> 1.115</td>\n",
        "      <td> 1.276</td>\n",
        "      <td> 1.569</td>\n",
        "      <td> 2.100</td>\n",
        "      <td> 2.864</td>\n",
        "    </tr>\n",
        "  </tbody>\n",
        "</table>\n",
        "</div>"
       ],
       "output_type": "pyout",
       "prompt_number": 3,
       "text": [
        "           count   mean    std    min    25%    50%    75%    max\n",
        "data_type                                                        \n",
        "p            226  0.005  0.008  0.000  0.000  0.003  0.007  0.052\n",
        "m_all         44  0.060  0.125  0.000  0.000  0.003  0.033  0.500\n",
        "csmr          39  0.000  0.000  0.000  0.000  0.000  0.000  0.001\n",
        "i             33  0.001  0.001  0.000  0.000  0.000  0.001  0.008\n",
        "smr            6  1.762  0.672  1.115  1.276  1.569  2.100  2.864"
       ]
      }
     ],
     "prompt_number": 3
    },
    {
     "cell_type": "markdown",
     "metadata": {},
     "source": [
      "More than half of the available data for this region is prevalence data.  I'll take a closer look\n",
      "at that now."
     ]
    },
    {
     "cell_type": "code",
     "collapsed": false,
     "input": [
      "model.get_data('smr').value.mean()"
     ],
     "language": "python",
     "metadata": {},
     "outputs": [
      {
       "output_type": "pyout",
       "prompt_number": 4,
       "text": [
        "1.7620067430983335"
       ]
      }
     ],
     "prompt_number": 4
    },
    {
     "cell_type": "code",
     "collapsed": false,
     "input": [
      "groups = model.get_data('p').groupby('area')\n",
      "print round_(groups['value'].describe(),3).unstack().sort('50%', ascending=False)"
     ],
     "language": "python",
     "metadata": {},
     "outputs": [
      {
       "output_type": "stream",
       "stream": "stdout",
       "text": [
        "                count   mean    std    min    25%    50%    75%    max\n",
        "area                                                                  \n",
        "europe_western     13  0.007  0.006  0.000  0.001  0.006  0.013  0.017\n",
        "ESP                43  0.006  0.007  0.000  0.001  0.006  0.009  0.037\n",
        "AUT                 1  0.006    NaN  0.006  0.006  0.006  0.006  0.006\n",
        "FRA                19  0.007  0.008  0.000  0.001  0.005  0.010  0.027\n",
        "NLD                20  0.009  0.015  0.000  0.000  0.004  0.011  0.052\n",
        "FIN                 1  0.004    NaN  0.004  0.004  0.004  0.004  0.004\n",
        "DNK                 6  0.004  0.003  0.001  0.001  0.004  0.005  0.009\n",
        "SWE                 6  0.003  0.003  0.000  0.001  0.003  0.004  0.008\n",
        "NOR                 4  0.005  0.004  0.002  0.003  0.003  0.005  0.011\n",
        "ITA                53  0.004  0.006  0.000  0.000  0.002  0.005  0.033\n",
        "ISR                 4  0.003  0.004  0.000  0.000  0.001  0.004  0.009\n",
        "GBR                36  0.004  0.006  0.000  0.000  0.001  0.005  0.022\n",
        "PRT                11  0.002  0.003  0.000  0.000  0.000  0.003  0.010\n",
        "DEU                 9  0.004  0.009  0.000  0.000  0.000  0.006  0.026\n"
       ]
      }
     ],
     "prompt_number": 5
    },
    {
     "cell_type": "markdown",
     "metadata": {},
     "source": [
      "In the original dataset, there was a wide range in median values, which reflects a combination of country-to-country variation and compositional bias.  Simulating data has reduced this substantially, but there is still six-fold variation between ESP and GBR."
     ]
    },
    {
     "cell_type": "code",
     "collapsed": false,
     "input": [
      "countries = ['ESP', 'GBR']\n",
      "c = {}\n",
      "for i, c_i in enumerate(countries):\n",
      "    c[i] = groups.get_group(c_i)"
     ],
     "language": "python",
     "metadata": {},
     "outputs": [],
     "prompt_number": 6
    },
    {
     "cell_type": "code",
     "collapsed": false,
     "input": [
      "ax = None\n",
      "figure(figsize=(10,4))\n",
      "for i, c_i in enumerate(countries):\n",
      "    ax = subplot(1,2,1+i, sharey=ax, sharex=ax)\n",
      "    dismod_mr.plot.data_bars(c[i])\n",
      "    xlabel('Age (years)')\n",
      "    ylabel('Prevalence (per 1)')\n",
      "    title(c_i)\n",
      "axis(ymin=-.001, xmin=-5, xmax=105)\n",
      "subplots_adjust(wspace=.3)"
     ],
     "language": "python",
     "metadata": {},
     "outputs": [
      {
       "output_type": "display_data",
       "png": "[encoded data removed]",
       "text": [
        "<matplotlib.figure.Figure at 0x3820a50>"
       ]
      }
     ],
     "prompt_number": 7
    },
    {
     "cell_type": "markdown",
     "metadata": {},
     "source": [
      "A model for age-specific parameters when measurements have heterogeneous age groups\n",
      "-----------------------------------------------------------------------------------"
     ]
    },
    {
     "cell_type": "markdown",
     "metadata": {},
     "source": [
      "DisMod-MR has four features that make it particularly suited for estimating age-specific prevalence of PD from this data:\n",
      "\n",
      "* Piecewise linear spline model for change in prevalence as a function of age\n",
      "* Age-standardizing model of age-group heterogeneity represents the heterogeneous age groups collected in systematic review\n",
      "* Country-level random effects for true variation in prevalence between countries\n",
      "* Negative binomial model of data, which provides data-driven estimation of non-sampling error in measurements\n",
      "  and elegantly handles measurements of 0"
     ]
    },
    {
     "cell_type": "markdown",
     "metadata": {},
     "source": [
      "I will now fit the prevalence data with DisMod-MR's age-standardizing negative binomial random effect spline model and\n",
      "compare the estimates to the observed data.  Then I will use the results of the fit model to explore the four features listed above."
     ]
    },
    {
     "cell_type": "code",
     "collapsed": true,
     "input": [
      "# remove fixed effects for this example, I will return to them below\n",
      "model.input_data = model.input_data.filter(regex='(?!x_)')"
     ],
     "language": "python",
     "metadata": {},
     "outputs": [],
     "prompt_number": 8
    },
    {
     "cell_type": "code",
     "collapsed": false,
     "input": [
      "model.vars += dismod_mr.model.asr(model, 'p')\n",
      "%time dismod_mr.fit.asr(model, 'p')"
     ],
     "language": "python",
     "metadata": {},
     "outputs": [
      {
       "output_type": "stream",
       "stream": "stdout",
       "text": [
        "WARNING: 5 rows of p data has invalid quantification of uncertainty.\n",
        "finding initial values"
       ]
      },
      {
       "output_type": "stream",
       "stream": "stdout",
       "text": [
        " ."
       ]
      },
      {
       "output_type": "stream",
       "stream": "stdout",
       "text": [
        " ."
       ]
      },
      {
       "output_type": "stream",
       "stream": "stdout",
       "text": [
        " ."
       ]
      },
      {
       "output_type": "stream",
       "stream": "stdout",
       "text": [
        " \n",
        "finding MAP estimate"
       ]
      },
      {
       "output_type": "stream",
       "stream": "stdout",
       "text": [
        " \n",
        "finding step covariances estimate"
       ]
      },
      {
       "output_type": "stream",
       "stream": "stdout",
       "text": [
        " \n",
        "resetting initial values (1)"
       ]
      },
      {
       "output_type": "stream",
       "stream": "stdout",
       "text": [
        " ."
       ]
      },
      {
       "output_type": "stream",
       "stream": "stdout",
       "text": [
        " ."
       ]
      },
      {
       "output_type": "stream",
       "stream": "stdout",
       "text": [
        " ."
       ]
      },
      {
       "output_type": "stream",
       "stream": "stdout",
       "text": [
        " \n",
        "resetting initial values (2)\n"
       ]
      },
      {
       "output_type": "stream",
       "stream": "stdout",
       "text": [
        "mare: 0.72\n",
        "sampling from posterior\n"
       ]
      },
      {
       "output_type": "stream",
       "stream": "stdout",
       "text": [
        "CPU times: user 1min 33s, sys: 11 ms, total: 1min 33s\n",
        "Wall time: 1min 33s\n"
       ]
      },
      {
       "output_type": "pyout",
       "prompt_number": 9,
       "text": [
        "(<pymc.NormalApproximation.MAP at 0x22b0590>, <pymc.MCMC.MCMC at 0x3820890>)"
       ]
      }
     ],
     "prompt_number": 9
    },
    {
     "cell_type": "code",
     "collapsed": false,
     "input": [
      "# plot age-specific prevalence estimates over data bars\n",
      "figure(figsize=(10,4))\n",
      "\n",
      "dismod_mr.plot.data_bars(model.get_data('p'), color='grey', label='Simulated PD Data')\n",
      "pred = dismod_mr.model.predict_for(model, model.parameters['p'], 'all', 'female', 2005,\n",
      "                                      'europe_western', 'female', 2005, 1.,\n",
      "                                      model.vars['p'], 0., 1.)    # TODO: simplify this method!\n",
      "\n",
      "hpd = mc.utils.hpd(pred, .05)\n",
      "\n",
      "plot(arange(101), pred.mean(axis=0), 'k-', linewidth=2, label='Posterior Mean')\n",
      "plot(arange(101), hpd[:,0], 'k--', linewidth=1, label='95% HPD interval')\n",
      "plot(arange(101), hpd[:,1], 'k--', linewidth=1)\n",
      "\n",
      "xlabel('Age (years)')\n",
      "ylabel('Prevalence (per 1)')\n",
      "grid()\n",
      "legend(loc='upper left')\n",
      "\n",
      "axis(ymin=-.001, xmin=-5, xmax=105)"
     ],
     "language": "python",
     "metadata": {},
     "outputs": [
      {
       "output_type": "pyout",
       "prompt_number": 10,
       "text": [
        "(-5, 105, -0.001, 0.059999999999999998)"
       ]
      },
      {
       "output_type": "display_data",
       "png": "[encoded data removed]",
       "text": [
        "<matplotlib.figure.Figure at 0x3e92b90>"
       ]
      }
     ],
     "prompt_number": 10
    },
    {
     "cell_type": "code",
     "collapsed": true,
     "input": [
      "p_only = model  # store results for future comparison"
     ],
     "language": "python",
     "metadata": {},
     "outputs": [],
     "prompt_number": 11
    },
    {
     "cell_type": "markdown",
     "metadata": {},
     "source": [
      "This estimate shows the nonlinear increase in prevalence as a function of age, where the slope of the\n",
      "curve increases at age 60.  A nonlinear estimate like this is possible thanks to DisMod-MR's piecewise linear\n",
      "spline model.\n",
      "\n",
      "The age-standardizing model for heterogeneous age groups is also important for\n",
      "such settings; a naive approach, such as using the age interval midpoint, would result in under-estimating\n",
      "the prevalence for age groups that include both individuals older and younger than 60."
     ]
    },
    {
     "cell_type": "markdown",
     "metadata": {},
     "source": [
      "\n",
      "The exact age where the slope of the curve changes is _not_ entirely data driven in this example.  The knots\n",
      "in the piecewise linear spline model were chosen a priori, on the following grid:"
     ]
    },
    {
     "cell_type": "code",
     "collapsed": false,
     "input": [
      "model.parameters['p']['parameter_age_mesh']"
     ],
     "language": "python",
     "metadata": {},
     "outputs": [
      {
       "output_type": "pyout",
       "prompt_number": 12,
       "text": [
        "[0, 30, 45, 60, 80, 100]"
       ]
      }
     ],
     "prompt_number": 12
    },
    {
     "cell_type": "markdown",
     "metadata": {},
     "source": [
      "A sparse grid allows faster computation, but a dense grid allows more expressive age pattens.  Choosing\n",
      "the proper balance is one challenge of a DisMod-MR analysis.  This is especially true for sparse,\n",
      "noisy data, where too many knots allow the model to follow noisy idiosyncrasies of the data.  DisMod-MR\n",
      "allows for penalized spline regression to help with this choice."
     ]
    },
    {
     "cell_type": "markdown",
     "metadata": {},
     "source": [
      "The country-level random effects in this model capture country-to-country variation in PD prevalence.\n",
      "This variation is not visible in the graphic above, which shows the regional aggregation of country-level\n",
      "estimates (using a population weighted average that takes uncertainty into account).\n",
      "\n",
      "The country-level random effects take the form of intercept shifts in log-prevalence space, with values\n",
      "showing in the following:"
     ]
    },
    {
     "cell_type": "code",
     "collapsed": true,
     "input": [
      "df = pd.DataFrame(index=[alpha_i.__name__ for alpha_i in model.vars['p']['alpha']],\n",
      "                      columns=['mean', 'lb', 'ub'])\n",
      "for alpha_i in model.vars['p']['alpha']:\n",
      "    stats = alpha_i.stats()\n",
      "    df.ix[alpha_i.__name__] = (stats['mean'], stats['95% HPD interval'][0], stats['95% HPD interval'][1])"
     ],
     "language": "python",
     "metadata": {},
     "outputs": [],
     "prompt_number": 13
    },
    {
     "cell_type": "code",
     "collapsed": false,
     "input": [
      "print round_(df.astype(float),3).sort('mean', ascending=False)"
     ],
     "language": "python",
     "metadata": {},
     "outputs": [
      {
       "output_type": "stream",
       "stream": "stdout",
       "text": [
        "              mean     lb     ub\n",
        "alpha_p_PRT  0.022 -0.117  0.132\n",
        "alpha_p_GBR  0.020 -0.093  0.133\n",
        "alpha_p_AUT  0.013 -0.118  0.137\n",
        "alpha_p_NOR  0.005 -0.100  0.156\n",
        "alpha_p_NLD  0.004 -0.134  0.114\n",
        "alpha_p_ISR -0.001 -0.125  0.123\n",
        "alpha_p_ITA -0.003 -0.118  0.118\n",
        "alpha_p_ESP -0.004 -0.129  0.128\n",
        "alpha_p_FIN -0.005 -0.126  0.115\n",
        "alpha_p_DNK -0.005 -0.142  0.114\n",
        "alpha_p_FRA -0.015 -0.140  0.120\n",
        "alpha_p_SWE -0.016 -0.148  0.101\n",
        "alpha_p_DEU -0.029 -0.154  0.116\n"
       ]
      }
     ],
     "prompt_number": 14
    },
    {
     "cell_type": "markdown",
     "metadata": {},
     "source": [
      "The fourth feature of the model which I want to draw attention to here is the negative binomial model of data,\n",
      "which deals with measurements of zero prevalence in a principled way.  Prevalence studies are reporting transformations\n",
      "of count data, and count data can be zero.  In the case of prevalence of PD in 30- to 40-year-olds, it often _will_ be zero."
     ]
    },
    {
     "cell_type": "code",
     "collapsed": false,
     "input": [
      "model.get_data('p').sort('age_start').filter(['age_start', 'age_end', 'area', 'value']).head(15)"
     ],
     "language": "python",
     "metadata": {},
     "outputs": [
      {
       "html": [
        "<div style=\"max-height:1000px;max-width:1500px;overflow:auto;\">\n",
        "<table border=\"1\" class=\"dataframe\">\n",
        "  <thead>\n",
        "    <tr style=\"text-align: right;\">\n",
        "      <th></th>\n",
        "      <th>age_start</th>\n",
        "      <th>age_end</th>\n",
        "      <th>area</th>\n",
        "      <th>value</th>\n",
        "    </tr>\n",
        "    <tr>\n",
        "      <th>index</th>\n",
        "      <th></th>\n",
        "      <th></th>\n",
        "      <th></th>\n",
        "      <th></th>\n",
        "    </tr>\n",
        "  </thead>\n",
        "  <tbody>\n",
        "    <tr>\n",
        "      <th>394</th>\n",
        "      <td>  0</td>\n",
        "      <td> 54</td>\n",
        "      <td> ITA</td>\n",
        "      <td> 0.000467</td>\n",
        "    </tr>\n",
        "    <tr>\n",
        "      <th>371</th>\n",
        "      <td>  0</td>\n",
        "      <td> 49</td>\n",
        "      <td> ITA</td>\n",
        "      <td> 0.000000</td>\n",
        "    </tr>\n",
        "    <tr>\n",
        "      <th>559</th>\n",
        "      <td>  0</td>\n",
        "      <td>  4</td>\n",
        "      <td> PRT</td>\n",
        "      <td> 0.000000</td>\n",
        "    </tr>\n",
        "    <tr>\n",
        "      <th>444</th>\n",
        "      <td>  0</td>\n",
        "      <td> 34</td>\n",
        "      <td> ITA</td>\n",
        "      <td> 0.000003</td>\n",
        "    </tr>\n",
        "    <tr>\n",
        "      <th>276</th>\n",
        "      <td>  0</td>\n",
        "      <td> 49</td>\n",
        "      <td> ITA</td>\n",
        "      <td> 0.000056</td>\n",
        "    </tr>\n",
        "    <tr>\n",
        "      <th>187</th>\n",
        "      <td>  0</td>\n",
        "      <td> 29</td>\n",
        "      <td> GBR</td>\n",
        "      <td> 0.000000</td>\n",
        "    </tr>\n",
        "    <tr>\n",
        "      <th>563</th>\n",
        "      <td>  5</td>\n",
        "      <td>  9</td>\n",
        "      <td> PRT</td>\n",
        "      <td> 0.000000</td>\n",
        "    </tr>\n",
        "    <tr>\n",
        "      <th>574</th>\n",
        "      <td> 10</td>\n",
        "      <td> 14</td>\n",
        "      <td> PRT</td>\n",
        "      <td> 0.000000</td>\n",
        "    </tr>\n",
        "    <tr>\n",
        "      <th>575</th>\n",
        "      <td> 15</td>\n",
        "      <td> 24</td>\n",
        "      <td> PRT</td>\n",
        "      <td> 0.000000</td>\n",
        "    </tr>\n",
        "    <tr>\n",
        "      <th>19 </th>\n",
        "      <td> 20</td>\n",
        "      <td> 59</td>\n",
        "      <td> DEU</td>\n",
        "      <td> 0.000167</td>\n",
        "    </tr>\n",
        "    <tr>\n",
        "      <th>558</th>\n",
        "      <td> 25</td>\n",
        "      <td> 34</td>\n",
        "      <td> PRT</td>\n",
        "      <td> 0.000000</td>\n",
        "    </tr>\n",
        "    <tr>\n",
        "      <th>161</th>\n",
        "      <td> 30</td>\n",
        "      <td> 99</td>\n",
        "      <td> GBR</td>\n",
        "      <td> 0.000000</td>\n",
        "    </tr>\n",
        "    <tr>\n",
        "      <th>438</th>\n",
        "      <td> 30</td>\n",
        "      <td> 99</td>\n",
        "      <td> ITA</td>\n",
        "      <td> 0.005370</td>\n",
        "    </tr>\n",
        "    <tr>\n",
        "      <th>422</th>\n",
        "      <td> 30</td>\n",
        "      <td> 39</td>\n",
        "      <td> ITA</td>\n",
        "      <td> 0.000022</td>\n",
        "    </tr>\n",
        "    <tr>\n",
        "      <th>375</th>\n",
        "      <td> 30</td>\n",
        "      <td> 99</td>\n",
        "      <td> ITA</td>\n",
        "      <td> 0.002525</td>\n",
        "    </tr>\n",
        "  </tbody>\n",
        "</table>\n",
        "</div>"
       ],
       "output_type": "pyout",
       "prompt_number": 15,
       "text": [
        "       age_start  age_end area     value\n",
        "index                                   \n",
        "394            0       54  ITA  0.000467\n",
        "371            0       49  ITA  0.000000\n",
        "559            0        4  PRT  0.000000\n",
        "444            0       34  ITA  0.000003\n",
        "276            0       49  ITA  0.000056\n",
        "187            0       29  GBR  0.000000\n",
        "563            5        9  PRT  0.000000\n",
        "574           10       14  PRT  0.000000\n",
        "575           15       24  PRT  0.000000\n",
        "19            20       59  DEU  0.000167\n",
        "558           25       34  PRT  0.000000\n",
        "161           30       99  GBR  0.000000\n",
        "438           30       99  ITA  0.005370\n",
        "422           30       39  ITA  0.000022\n",
        "375           30       99  ITA  0.002525"
       ]
      }
     ],
     "prompt_number": 15
    },
    {
     "cell_type": "markdown",
     "metadata": {},
     "source": [
      "The negative binomial model has an appropriately skewed distribution, where prevalence measurements \n",
      "of zero are possible, but measurements of less than zero are not possible.  To demonstrate how this\n",
      "functions, the next figure shows the \"posterior predictive distribution\" for the measurements above,\n",
      "i.e. sample values that the model predicts would be found of the studies were conducted again under\n",
      "the same conditions."
     ]
    },
    {
     "cell_type": "code",
     "collapsed": true,
     "input": [
      "pred = model.vars['p']['p_pred'].trace()\n",
      "obs = array(model.vars['p']['p_obs'].value)\n",
      "ess = array(model.vars['p']['p_obs'].parents['n'])"
     ],
     "language": "python",
     "metadata": {},
     "outputs": [],
     "prompt_number": 16
    },
    {
     "cell_type": "code",
     "collapsed": false,
     "input": [
      "figure(figsize=(10,4))\n",
      "\n",
      "sorted_indices = obs.argsort().argsort()\n",
      "jitter = mc.rnormal(0, .1**-2, len(pred))\n",
      "\n",
      "for i,s_i in enumerate(sorted_indices):\n",
      "    plot(s_i+jitter, pred[:, i], 'ko', mew=0, alpha=.25, zorder=-99)\n",
      "\n",
      "errorbar(sorted_indices, obs, yerr=1.96*sqrt(obs*(1-obs)/ess), fmt='ks', mew=1, mec='white', ms=5)\n",
      "\n",
      "xticks([])\n",
      "xlabel('Measurement')\n",
      "ylabel('Prevalence (%)\\n', ha='center')\n",
      "yticks([0, .02, .04, .06, .08], [0, 2, 4, 6, 8])\n",
      "axis([25.5,55.5,-.01,.1])\n",
      "grid()\n",
      "title('Posterior Predictive distribution')"
     ],
     "language": "python",
     "metadata": {},
     "outputs": [
      {
       "output_type": "pyout",
       "prompt_number": 17,
       "text": [
        "<matplotlib.text.Text at 0x3e92a50>"
       ]
      },
      {
       "output_type": "display_data",
       "png": "[encoded data removed]",
       "text": [
        "<matplotlib.figure.Figure at 0x3b15dd0>"
       ]
      }
     ],
     "prompt_number": 17
    },
    {
     "cell_type": "markdown",
     "metadata": {},
     "source": [
      "Additional features of DisMod-MR\n",
      "--------------------------------"
     ]
    },
    {
     "cell_type": "markdown",
     "metadata": {},
     "source": [
      "Four additional features of DisMod-MR that are important for many settings are:\n",
      "\n",
      "* informative priors\n",
      "* fixed effects to cross-walk between different studies\n",
      "* fixed effects to predict out of sample\n",
      "* fixed effects to explain the level of variation"
     ]
    },
    {
     "cell_type": "markdown",
     "metadata": {},
     "source": [
      "Informative priors are useful for modeling disease with less data available than PD, for example to include\n",
      "information that prevalence is zero for youngest ages, or than prevalence must be increasing as a function of\n",
      "age between certain ages.\n",
      "\n",
      "The informative priors are also key to the \"empirical Bayes\" approach to modeling age-specific differences between\n",
      "difference GBD regions.  In this setting, a model using all the world's data is used to produce estimates for each region,\n",
      "and these estimates are used as priors in region-specific models together with the data relevant to that region only."
     ]
    },
    {
     "cell_type": "markdown",
     "metadata": {},
     "source": [
      "\"Cross-walk\" fixed effects can correct for biases introduced by multiple outcome measures.  For example, in the PD dataset,"
     ]
    },
    {
     "cell_type": "code",
     "collapsed": true,
     "input": [
      "model = dismod_mr.data.load('pd_sim_data')"
     ],
     "language": "python",
     "metadata": {},
     "outputs": [],
     "prompt_number": 18
    },
    {
     "cell_type": "code",
     "collapsed": true,
     "input": [
      "crosswalks = list(model.input_data.filter(like='x_cv').columns)\n",
      "groups = model.get_data('p').groupby(crosswalks)"
     ],
     "language": "python",
     "metadata": {},
     "outputs": [],
     "prompt_number": 19
    },
    {
     "cell_type": "code",
     "collapsed": false,
     "input": [
      "crosswalks"
     ],
     "language": "python",
     "metadata": {},
     "outputs": [
      {
       "output_type": "pyout",
       "prompt_number": 20,
       "text": [
        "['x_cv_ascertainment', 'x_cv_diagnostic_criteria', 'x_cv_representative']"
       ]
      }
     ],
     "prompt_number": 20
    },
    {
     "cell_type": "code",
     "collapsed": false,
     "input": [
      "round_(groups['value'].describe(),3).unstack()['mean']"
     ],
     "language": "python",
     "metadata": {},
     "outputs": [
      {
       "output_type": "pyout",
       "prompt_number": 21,
       "text": [
        "x_cv_ascertainment  x_cv_diagnostic_criteria  x_cv_representative\n",
        "0                   0                         0                      0.006\n",
        "                    1                         0                      0.009\n",
        "1                   0                         0                      0.004\n",
        "                    1                         0                      0.004\n",
        "                                              1                      0.009\n",
        "Name: mean, dtype: float64"
       ]
      }
     ],
     "prompt_number": 21
    },
    {
     "cell_type": "markdown",
     "metadata": {},
     "source": [
      "Incorporating data on parameters other than prevalence\n",
      "------------------------------------------------------\n",
      "\n",
      "So far this example has focused on modeling the prevalence of PD from the\n",
      "prevalence data alone.  However, this represents about half of the available\n",
      "data.  There is also information on incidence, SMR, and CSMR, which has not\n",
      "yet been incorporated.\n",
      "\n",
      "DisMod-MR is capable of including all of the available data, using a compartmental\n",
      "model of disease moving through a population.  This model formalizes the observation\n",
      "that prevalent cases must once have been incident cases, and continue to be prevalent\n",
      "cases until remission or death.\n",
      "\n",
      "In this model, incidence, remission, and excess-mortality are age-standardizing negative binomial random effect spline models,\n",
      "while prevalence, SMR, CSMR, and other parameters come from the solution to a system of ordinary differential equations.\n",
      "\n",
      "The results of this model are smoother prevalence curves that take longer to calculate."
     ]
    },
    {
     "cell_type": "code",
     "collapsed": false,
     "input": [
      "figure(figsize=(10,6))\n",
      "\n",
      "subplot(2,2,1); dismod_mr.plot.data_bars(model.get_data('p')); xlabel('Age (years)'); ylabel('Prevalence')\n",
      "subplot(2,2,2); dismod_mr.plot.data_bars(model.get_data('i')); xlabel('Age (years)'); ylabel('Incidence')\n",
      "subplot(2,2,3); dismod_mr.plot.data_bars(model.get_data('csmr')); xlabel('Age (years)'); ylabel('Cause-specific mortality')\n",
      "subplot(2,2,4); dismod_mr.plot.data_bars(model.get_data('smr')); xlabel('Age (years)'); ylabel('Standardized \\nmortality ratio')"
     ],
     "language": "python",
     "metadata": {},
     "outputs": [
      {
       "output_type": "pyout",
       "prompt_number": 22,
       "text": [
        "<matplotlib.text.Text at 0x51b7a90>"
       ]
      },
      {
       "output_type": "display_data",
       "png": "[encoded data removed]",
       "text": [
        "<matplotlib.figure.Figure at 0x4e079d0>"
       ]
      }
     ],
     "prompt_number": 22
    },
    {
     "cell_type": "code",
     "collapsed": false,
     "input": [
      "model.input_data.columns"
     ],
     "language": "python",
     "metadata": {},
     "outputs": [
      {
       "output_type": "pyout",
       "prompt_number": 23,
       "text": [
        "Index([u'age_end', u'age_start', u'age_weights', u'area', u'data_type', u'effective_sample_size', u'lower_ci', u'sex', u'standard_error', u'upper_ci', u'value', u'x_cv_ascertainment', u'x_cv_diagnostic_criteria', u'x_cv_representative', u'year_end', u'year_start'], dtype=object)"
       ]
      }
     ],
     "prompt_number": 23
    },
    {
     "cell_type": "code",
     "collapsed": false,
     "input": [
      "model.vars += dismod_mr.model.consistent(model)\n",
      "%time dismod_mr.fit.consistent(model)"
     ],
     "language": "python",
     "metadata": {},
     "outputs": [
      {
       "output_type": "stream",
       "stream": "stdout",
       "text": [
        "using stored FE for beta_i_x_cv_ascertainment x_cv_ascertainment {'mu': 0, 'sigma': 0.0001, 'dist': 'Normal'}\n",
        "using stored FE for beta_i_x_cv_diagnostic_criteria x_cv_diagnostic_criteria {'mu': 0, 'sigma': 0.0001, 'dist': 'Normal'}\n",
        "using stored FE for beta_i_x_cv_representative x_cv_representative {'mu': 0, 'sigma': 0.0001, 'dist': 'Normal'}\n",
        "using stored FE for beta_i_x_sex x_sex {'mu': 0, 'sigma': 0.0001, 'dist': 'Normal'}\n",
        "using stored FE for"
       ]
      },
      {
       "output_type": "stream",
       "stream": "stdout",
       "text": [
        " beta_r_x_cv_ascertainment x_cv_ascertainment {'mu': 0, 'sigma': 0.0001, 'dist': 'Normal'}\n",
        "using stored FE for beta_r_x_cv_diagnostic_criteria x_cv_diagnostic_criteria {'mu': 0, 'sigma': 0.0001, 'dist': 'Normal'}\n",
        "using stored FE for beta_r_x_cv_representative x_cv_representative {'mu': 0, 'sigma': 0.0001, 'dist': 'Normal'}\n",
        "using stored FE for beta_r_x_sex x_sex {'mu': 0, 'sigma': 0.0001, 'dist': 'Normal'}\n",
        "using stored FE for"
       ]
      },
      {
       "output_type": "stream",
       "stream": "stdout",
       "text": [
        " beta_f_x_cv_ascertainment x_cv_ascertainment {'mu': 0, 'sigma': 0.0001, 'dist': 'Normal'}\n",
        "using stored FE for beta_f_x_cv_diagnostic_criteria x_cv_diagnostic_criteria {'mu': 0, 'sigma': 0.0001, 'dist': 'Normal'}\n",
        "using stored FE for beta_f_x_cv_representative x_cv_representative {'mu': 0, 'sigma': 0.0001, 'dist': 'Normal'}\n",
        "using stored FE for beta_f_x_sex x_sex {'mu': 0, 'sigma': 0.0001, 'dist': 'Normal'}\n",
        "WARNING: 5 rows of p data has invalid quantification of uncertainty."
       ]
      },
      {
       "output_type": "stream",
       "stream": "stdout",
       "text": [
        "\n",
        "using stored FE for"
       ]
      },
      {
       "output_type": "stream",
       "stream": "stdout",
       "text": [
        " beta_X_x_cv_ascertainment x_cv_ascertainment {'mu': 0, 'sigma': 0.0001, 'dist': 'Normal'}\n",
        "using stored FE for beta_X_x_cv_diagnostic_criteria x_cv_diagnostic_criteria {'mu': 0, 'sigma': 0.0001, 'dist': 'Normal'}\n",
        "using stored FE for beta_X_x_cv_representative x_cv_representative {'mu': 0, 'sigma': 0.0001, 'dist': 'Normal'}\n",
        "using stored FE for beta_X_x_sex x_sex {'mu': 0, 'sigma': 0.0001, 'dist': 'Normal'}\n",
        "fitting submodels"
       ]
      },
      {
       "output_type": "stream",
       "stream": "stdout",
       "text": [
        " ."
       ]
      },
      {
       "output_type": "stream",
       "stream": "stdout",
       "text": [
        " ."
       ]
      },
      {
       "output_type": "stream",
       "stream": "stdout",
       "text": [
        " ."
       ]
      },
      {
       "output_type": "stream",
       "stream": "stdout",
       "text": [
        " ."
       ]
      },
      {
       "output_type": "stream",
       "stream": "stdout",
       "text": [
        " ."
       ]
      },
      {
       "output_type": "stream",
       "stream": "stdout",
       "text": [
        " ."
       ]
      },
      {
       "output_type": "stream",
       "stream": "stdout",
       "text": [
        " ."
       ]
      },
      {
       "output_type": "stream",
       "stream": "stdout",
       "text": [
        " ."
       ]
      },
      {
       "output_type": "stream",
       "stream": "stdout",
       "text": [
        " ."
       ]
      },
      {
       "output_type": "stream",
       "stream": "stdout",
       "text": [
        " ."
       ]
      },
      {
       "output_type": "stream",
       "stream": "stdout",
       "text": [
        " ."
       ]
      },
      {
       "output_type": "stream",
       "stream": "stdout",
       "text": [
        " ."
       ]
      },
      {
       "output_type": "stream",
       "stream": "stdout",
       "text": [
        " ."
       ]
      },
      {
       "output_type": "stream",
       "stream": "stdout",
       "text": [
        " ."
       ]
      },
      {
       "output_type": "stream",
       "stream": "stdout",
       "text": [
        " ."
       ]
      },
      {
       "output_type": "stream",
       "stream": "stdout",
       "text": [
        " ."
       ]
      },
      {
       "output_type": "stream",
       "stream": "stdout",
       "text": [
        " ."
       ]
      },
      {
       "output_type": "stream",
       "stream": "stdout",
       "text": [
        " ."
       ]
      },
      {
       "output_type": "stream",
       "stream": "stdout",
       "text": [
        " ."
       ]
      },
      {
       "output_type": "stream",
       "stream": "stdout",
       "text": [
        " ."
       ]
      },
      {
       "output_type": "stream",
       "stream": "stdout",
       "text": [
        " ."
       ]
      },
      {
       "output_type": "stream",
       "stream": "stdout",
       "text": [
        " ."
       ]
      },
      {
       "output_type": "stream",
       "stream": "stdout",
       "text": [
        " ."
       ]
      },
      {
       "output_type": "stream",
       "stream": "stdout",
       "text": [
        " ."
       ]
      },
      {
       "output_type": "stream",
       "stream": "stdout",
       "text": [
        " ."
       ]
      },
      {
       "output_type": "stream",
       "stream": "stdout",
       "text": [
        " ."
       ]
      },
      {
       "output_type": "stream",
       "stream": "stdout",
       "text": [
        " ."
       ]
      },
      {
       "output_type": "stream",
       "stream": "stdout",
       "text": [
        " ."
       ]
      },
      {
       "output_type": "stream",
       "stream": "stdout",
       "text": [
        " ."
       ]
      },
      {
       "output_type": "stream",
       "stream": "stdout",
       "text": [
        " ."
       ]
      },
      {
       "output_type": "stream",
       "stream": "stdout",
       "text": [
        " ."
       ]
      },
      {
       "output_type": "stream",
       "stream": "stdout",
       "text": [
        " ."
       ]
      },
      {
       "output_type": "stream",
       "stream": "stdout",
       "text": [
        " \n",
        "fitting all stochs\n"
       ]
      },
      {
       "output_type": "stream",
       "stream": "stdout",
       "text": [
        "finding step covariances"
       ]
      },
      {
       "output_type": "stream",
       "stream": "stdout",
       "text": [
        " ."
       ]
      },
      {
       "output_type": "stream",
       "stream": "stdout",
       "text": [
        " ."
       ]
      },
      {
       "output_type": "stream",
       "stream": "stdout",
       "text": [
        " ."
       ]
      },
      {
       "output_type": "stream",
       "stream": "stdout",
       "text": [
        " ."
       ]
      },
      {
       "output_type": "stream",
       "stream": "stdout",
       "text": [
        " ."
       ]
      },
      {
       "output_type": "stream",
       "stream": "stdout",
       "text": [
        " ."
       ]
      },
      {
       "output_type": "stream",
       "stream": "stdout",
       "text": [
        " ."
       ]
      },
      {
       "output_type": "stream",
       "stream": "stdout",
       "text": [
        " ."
       ]
      },
      {
       "output_type": "stream",
       "stream": "stdout",
       "text": [
        " ."
       ]
      },
      {
       "output_type": "stream",
       "stream": "stdout",
       "text": [
        " ."
       ]
      },
      {
       "output_type": "stream",
       "stream": "stdout",
       "text": [
        " ."
       ]
      },
      {
       "output_type": "stream",
       "stream": "stdout",
       "text": [
        " ."
       ]
      },
      {
       "output_type": "stream",
       "stream": "stdout",
       "text": [
        " ."
       ]
      },
      {
       "output_type": "stream",
       "stream": "stdout",
       "text": [
        " ."
       ]
      },
      {
       "output_type": "stream",
       "stream": "stdout",
       "text": [
        " ."
       ]
      },
      {
       "output_type": "stream",
       "stream": "stdout",
       "text": [
        " ."
       ]
      },
      {
       "output_type": "stream",
       "stream": "stdout",
       "text": [
        " ."
       ]
      },
      {
       "output_type": "stream",
       "stream": "stdout",
       "text": [
        " ."
       ]
      },
      {
       "output_type": "stream",
       "stream": "stdout",
       "text": [
        " ."
       ]
      },
      {
       "output_type": "stream",
       "stream": "stdout",
       "text": [
        " ."
       ]
      },
      {
       "output_type": "stream",
       "stream": "stdout",
       "text": [
        " ."
       ]
      },
      {
       "output_type": "stream",
       "stream": "stdout",
       "text": [
        " ."
       ]
      },
      {
       "output_type": "stream",
       "stream": "stdout",
       "text": [
        " ."
       ]
      },
      {
       "output_type": "stream",
       "stream": "stdout",
       "text": [
        " ."
       ]
      },
      {
       "output_type": "stream",
       "stream": "stdout",
       "text": [
        " ."
       ]
      },
      {
       "output_type": "stream",
       "stream": "stdout",
       "text": [
        " \n",
        "sampling from posterior distribution\n"
       ]
      },
      {
       "output_type": "stream",
       "stream": "stdout",
       "text": [
        "CPU times: user 14min 38s, sys: 187 ms, total: 14min 38s\n",
        "Wall time: 14min 41s\n"
       ]
      },
      {
       "output_type": "stream",
       "stream": "stderr",
       "text": [
        "/snfs2/HOME/abie/ENV_dismod/lib/python2.6/site-packages/pymc/StepMethods.py:1179: UserWarning: \n",
        "Covariance was not positive definite and proposal_sd cannot be computed by \n",
        "Cholesky decomposition. The next jumps will be based on the last \n",
        "valid covariance matrix. This situation may have arisen because no \n",
        "jumps were accepted during the last `interval`. One solution is to \n",
        "increase the interval, or specify an initial covariance matrix with \n",
        "a smaller variance. For this simulation, each time a similar error \n",
        "occurs, proposal_sd will be reduced by a factor .9 to reduce the \n",
        "jumps and increase the likelihood of accepted jumps.\n",
        "  warnings.warn(adjustmentwarning)\n"
       ]
      },
      {
       "output_type": "pyout",
       "prompt_number": 24,
       "text": [
        "(<pymc.NormalApproximation.MAP at 0x3ebddd0>, <pymc.MCMC.MCMC at 0x5a4be50>)"
       ]
      }
     ],
     "prompt_number": 24
    },
    {
     "cell_type": "code",
     "collapsed": false,
     "input": [
      "figure(figsize=(10,6))\n",
      "\n",
      "subplot(2,2,1); dismod_mr.plot.data_bars(model.get_data('p')); xlabel('Age (years)'); ylabel('Prevalence')\n",
      "subplot(2,2,2); dismod_mr.plot.data_bars(model.get_data('i')); xlabel('Age (years)'); ylabel('Incidence')\n",
      "subplot(2,2,3); dismod_mr.plot.data_bars(model.get_data('csmr')); xlabel('Age (years)'); ylabel('Cause-specific mortality')\n",
      "subplot(2,2,4); dismod_mr.plot.data_bars(model.get_data('smr')); xlabel('Age (years)'); ylabel('Standardized \\nmortality ratio')\n",
      "param_list = [dict(type='p', title='(a)', ylabel='Prevalence (%)', yticks=([0, .01, .02], [0, 1, 2]), axis=[30,101,-0.001,.025]),\n",
      "          dict(type='i', title='(b)', ylabel='Incidence \\n(per 1000 PY)', yticks=([0, .001,.002, .003, .004], [0, 1, 2, 3, 4]), axis=[30,104,-.0003,.0055]),\n",
      "          dict(type='pf', title='(c)', ylabel='Cause-specific mortality \\n(per 1000 PY)', yticks=([0, .001,.002], [0, 1, 2]), axis=[30,104,-.0002,.003]),\n",
      "          dict(type='smr', title='(d)', ylabel='Standardized \\nmortality ratio', yticks=([1, 2, 3,4, ], [1, 2,3, 4]), axis=[35,104,.3,4.5]),\n",
      "          ]\n",
      "\n",
      "for i, params in enumerate(param_list):\n",
      "    ax = subplot(2,2,i+1)\n",
      "    if params['type'] == 'pf': dismod_mr.plot.data_bars(model.get_data('csmr'), color='grey')\n",
      "    else: dismod_mr.plot.data_bars(model.get_data(params['type']), color='grey')\n",
      "    \n",
      "    if params['type'] == 'smr': model.pred = dismod_mr.model.predict_for(model, model.parameters.get('smr', {}), 'all', 'female', 2005, \n",
      "                                                               'europe_western', 'female', 2005, 1., model.vars['smr'], 0., 100.).T\n",
      "    else : model.pred = dismod_mr.model.predict_for(model, model.parameters[params['type']],\n",
      "                                                       'all', 'female', 2005, \n",
      "                                                       'europe_western', 'female', 2005, 1., model.vars[params['type']], 0., 1.).T\n",
      "    \n",
      "    plot(arange(101), model.pred.mean(axis=1), 'k-', linewidth=2, label='Posterior Mean')\n",
      "    hpd = mc.utils.hpd(model.pred.T, .05)\n",
      "    plot(arange(101), hpd[:,0], 'k-', linewidth=1, label='95% HPD interval')\n",
      "    plot(arange(101), hpd[:,1], 'k-', linewidth=1)\n",
      "\n",
      "    xlabel('Age (years)')\n",
      "    ylabel(params['ylabel']+'\\n\\n', ha='center')\n",
      "    axis(params.get('axis', [-5,105,-.005,.06]))\n",
      "    yticks(*params.get('yticks', ([0, .025, .05], [0, 2.5, 5])))\n",
      "    title(params['title'])\n",
      "    grid()\n",
      "    \n",
      "subplots_adjust(hspace=.35, wspace=.35, top=.97)"
     ],
     "language": "python",
     "metadata": {},
     "outputs": [
      {
       "output_type": "display_data",
       "png": "[encoded data removed]",
       "text": [
        "<matplotlib.figure.Figure at 0x6b18590>"
       ]
      }
     ],
     "prompt_number": 25
    },
    {
     "cell_type": "code",
     "collapsed": true,
     "input": [
      "p_with = model"
     ],
     "language": "python",
     "metadata": {},
     "outputs": [],
     "prompt_number": 26
    },
    {
     "cell_type": "markdown",
     "metadata": {},
     "source": [
      "The most notable difference between the estimates from this model and from the model\n",
      "that used prevalence data only is that this model produces estimates of incidence and\n",
      "mortality in addition to prevalence.  In many cases, the model also produces estimates\n",
      "of the remission rate as well, but there is no remission of PD, so the estimates of zero\n",
      "are not very interesting in this example.  It is another place that informative priors are useful,\n",
      "however.\n",
      "\n",
      "There are also differences between the means and uncertainty intervals estimated by these methods,\n",
      "which show that the additional data is important.  Although the prevalence data alone predicts \n",
      "age-specific prevalence that peaks at 2%, when the incidence and mortality data is also included, the\n",
      "maximum prevalence is a bit lower, closer to 1.5%."
     ]
    },
    {
     "cell_type": "code",
     "collapsed": true,
     "input": [
      "p1 = dismod_mr.model.predict_for(p_only, model.parameters['p'],\n",
      "                                    'all', 'total', 'all', \n",
      "                                    'europe_western', 'female', 2005, 1.,\n",
      "                                    p_only.vars['p'], 0., 1.)\n",
      "\n",
      "p2 = dismod_mr.model.predict_for(p_with, model.parameters['p'],\n",
      "                                    'all', 'total', 'all', \n",
      "                                    'europe_western', 'female', 2005, 1.,\n",
      "                                    p_with.vars['p'], 0., 1.)"
     ],
     "language": "python",
     "metadata": {},
     "outputs": [],
     "prompt_number": 27
    },
    {
     "cell_type": "code",
     "collapsed": false,
     "input": [
      "plot(p1.mean(axis=0), 'k--', linewidth=2, label='Only prevalence')\n",
      "plot(p2.mean(axis=0), 'k-', linewidth=2, label='All available')\n",
      "\n",
      "xlabel('Age (years)')\n",
      "ylabel('Prevalence (%)\\n\\n', ha='center')\n",
      "yticks([0, .01, .02], [0, 1, 2])\n",
      "axis([30,101,-0.001,.025])\n",
      "legend(loc='upper left')\n",
      "grid()\n",
      "\n",
      "subplots_adjust(top=.97, bottom=.16)"
     ],
     "language": "python",
     "metadata": {},
     "outputs": [
      {
       "output_type": "display_data",
       "png": "[encoded data removed]",
       "text": [
        "<matplotlib.figure.Figure at 0x22b0250>"
       ]
      }
     ],
     "prompt_number": 28
    },
    {
     "cell_type": "markdown",
     "metadata": {},
     "source": [
      "Because the data is so noisy, the differences between the mean estimates of these different models are not significant; the posterior distributions\n",
      "have considerable overlap.  At age 80, for example, the posterior distributions for age-80 prevalence are estimated as the following:"
     ]
    },
    {
     "cell_type": "code",
     "collapsed": false,
     "input": [
      "hist(100*p1[:,80], normed=True, histtype='step', label='Only prevalence', linewidth=3, color=array([239., 138., 98., 256.])/256)\n",
      "hist(100*p2[:,80], normed=True, histtype='step', label='All available', linewidth=3, color=array([103, 169, 207, 256.])/256)\n",
      "title('PD prevalence at age 80')\n",
      "xlabel('Prevalence (%)\\n\\n', ha='center')\n",
      "ylabel('Probability Density')\n",
      "legend(loc='upper right')\n",
      "grid()\n",
      "\n",
      "subplots_adjust(bottom=.16)"
     ],
     "language": "python",
     "metadata": {},
     "outputs": [
      {
       "output_type": "display_data",
       "png": "[encoded data removed]",
       "text": [
        "<matplotlib.figure.Figure at 0x3ebde10>"
       ]
      }
     ],
     "prompt_number": 29
    },
    {
     "cell_type": "markdown",
     "metadata": {},
     "source": [
      "Conclusion\n",
      "==========\n",
      "\n",
      "I hope that this example is a quick way to see the strengths and weaknesses of DisMod-MR.\n",
      "This model is particularly suited for estimating descriptive epidemiology of diseases\n",
      "with sparse, noisy data from multiple, incompatible sources.\n",
      "\n",
      "I am currently working to make it faster, as well as to improve the capabilities for modeling\n",
      "changes between regions over time."
     ]
    },
    {
     "cell_type": "code",
     "collapsed": false,
     "input": [
      "!date"
     ],
     "language": "python",
     "metadata": {},
     "outputs": [
      {
       "output_type": "stream",
       "stream": "stdout",
       "text": [
        "Wed Aug  7 16:24:12 PDT 2013\r\n"
       ]
      }
     ],
     "prompt_number": 30
    },
    {
     "cell_type": "code",
     "collapsed": false,
     "input": [],
     "language": "python",
     "metadata": {},
     "outputs": [],
     "prompt_number": 30
    }
   ],
   "metadata": {}
  }
 ]
}