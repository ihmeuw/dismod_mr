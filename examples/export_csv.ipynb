{
 "metadata": {
  "name": ""
 },
 "nbformat": 3,
 "nbformat_minor": 0,
 "worksheets": [
  {
   "cells": [
    {
     "cell_type": "markdown",
     "metadata": {},
     "source": [
      "# Getting estimates out of DisMod-MR\n",
      "\n",
      "The goal of this document is to demonstrate how to export age-specific prevalence estimates from DisMod-MR in a comma-separated value (CSV) format, for use in subsequent analysis.\n",
      "\n",
      "It uses data from the replication dataset for regional estimates of HCV prevalence, as published in Mohd Hanafiah K, Groeger J, Flaxman AD, Wiersma ST. Global epidemiology of hepatitis C virus infection: New estimates of age-specific antibody to HCV seroprevalence. Hepatology. 2013 Apr;57(4):1333-42. doi: 10.1002/hep.26141. Epub 2013 Feb 4.  http://www.ncbi.nlm.nih.gov/pubmed/23172780\n",
      "\n",
      "The dataset is available from: http://ghdx.healthmetricsandevaluation.org/record/hepatitis-c-prevalence-1990-and-2005-all-gbd-regions\n",
      "\n",
      "    wget http://ghdx.healthmetricsandevaluation.org/sites/ghdx/files/record-attached-files/IHME_GBD_HEP_C_RESEARCH_ARCHIVE_Y2013M04D12.ZIP\n",
      "    unzip IHME_GBD_HEP_C_RESEARCH_ARCHIVE_Y2013M04D12.ZIP"
     ]
    },
    {
     "cell_type": "code",
     "collapsed": false,
     "input": [
      "#!wget http://ghdx.healthmetricsandevaluation.org/sites/ghdx/files/record-attached-files/IHME_GBD_HEP_C_RESEARCH_ARCHIVE_Y2013M04D12.ZIP\n",
      "#!unzip IHME_GBD_HEP_C_RESEARCH_ARCHIVE_Y2013M04D12.ZIP"
     ],
     "language": "python",
     "metadata": {},
     "outputs": [],
     "prompt_number": 3
    },
    {
     "cell_type": "code",
     "collapsed": false,
     "input": [
      "# This Python code will export predictions \n",
      "# for the following region/sex/year:\n",
      "predict_region = 'asia_central'\n",
      "predict_sex = 'male'\n",
      "predict_year = 2005"
     ],
     "language": "python",
     "metadata": {},
     "outputs": [],
     "prompt_number": 4
    },
    {
     "cell_type": "code",
     "collapsed": false,
     "input": [
      "# import dismod code\n",
      "import dismod_mr"
     ],
     "language": "python",
     "metadata": {},
     "outputs": [],
     "prompt_number": 5
    },
    {
     "cell_type": "markdown",
     "metadata": {},
     "source": [
      "Load the model, and keep only data for the prediction region/sex/year"
     ]
    },
    {
     "cell_type": "code",
     "collapsed": false,
     "input": [
      "model_path = 'hcv_replication/'\n",
      "dm = dismod_mr.data.load(model_path)\n",
      "\n",
      "if predict_year == 2005:\n",
      "    dm.keep(areas=[predict_region], sexes=['total', predict_sex], start_year=1997)\n",
      "elif predict_year == 1990:\n",
      "    dm.keep(areas=[predict_region], sexes=['total', predict_sex], end_year=1997)\n",
      "else:\n",
      "    raise Error, 'predict_year must equal 1990 or 2005'"
     ],
     "language": "python",
     "metadata": {},
     "outputs": [
      {
       "output_type": "stream",
       "stream": "stdout",
       "text": [
        "kept 29 rows of data\n"
       ]
      }
     ],
     "prompt_number": 7
    },
    {
     "cell_type": "code",
     "collapsed": false,
     "input": [
      "# Fit model using the data subset (faster, but no borrowing strength)\n",
      "dm.vars += dismod_mr.model.process.age_specific_rate(dm, 'p', predict_region, predict_sex, predict_year)\n",
      "%time dismod_mr.fit.asr(dm, 'p', iter=2000, burn=1000, thin=1)"
     ],
     "language": "python",
     "metadata": {},
     "outputs": [
      {
       "output_type": "stream",
       "stream": "stdout",
       "text": [
        "using stored FE for beta_p_x_sex x_sex {'mu': 0.0, 'sigma': 0.0001, 'dist': 'Normal'}\n",
        "finding initial values"
       ]
      },
      {
       "output_type": "stream",
       "stream": "stdout",
       "text": [
        " ."
       ]
      },
      {
       "output_type": "stream",
       "stream": "stdout",
       "text": [
        " ."
       ]
      },
      {
       "output_type": "stream",
       "stream": "stdout",
       "text": [
        " ."
       ]
      },
      {
       "output_type": "stream",
       "stream": "stdout",
       "text": [
        " \n",
        "finding MAP estimate"
       ]
      },
      {
       "output_type": "stream",
       "stream": "stdout",
       "text": [
        " \n",
        "finding step covariances estimate"
       ]
      },
      {
       "output_type": "stream",
       "stream": "stdout",
       "text": [
        " \n",
        "resetting initial values (1)"
       ]
      },
      {
       "output_type": "stream",
       "stream": "stdout",
       "text": [
        " ."
       ]
      },
      {
       "output_type": "stream",
       "stream": "stdout",
       "text": [
        " ."
       ]
      },
      {
       "output_type": "stream",
       "stream": "stdout",
       "text": [
        " ."
       ]
      },
      {
       "output_type": "stream",
       "stream": "stdout",
       "text": [
        " \n",
        "resetting initial values (2)\n"
       ]
      },
      {
       "output_type": "stream",
       "stream": "stdout",
       "text": [
        "mare: 0.16\n",
        "sampling from posterior\n"
       ]
      },
      {
       "output_type": "stream",
       "stream": "stdout",
       "text": [
        "CPU times: user 1min 5s, sys: 27 ms, total: 1min 5s\n",
        "Wall time: 1min 5s\n"
       ]
      },
      {
       "metadata": {},
       "output_type": "pyout",
       "prompt_number": 8,
       "text": [
        "(<pymc.NormalApproximation.MAP at 0x581d6d0>, <pymc.MCMC.MCMC at 0x5823e10>)"
       ]
      }
     ],
     "prompt_number": 8
    },
    {
     "cell_type": "code",
     "collapsed": false,
     "input": [
      "# Make posterior predictions\n",
      "pred = dismod_mr.model.covariates.predict_for(\n",
      "            dm, dm.parameters['p'],\n",
      "            predict_region, predict_sex, predict_year,\n",
      "            predict_region, predict_sex, predict_year, True, dm.vars['p'], 0, 1)"
     ],
     "language": "python",
     "metadata": {},
     "outputs": [],
     "prompt_number": 9
    },
    {
     "cell_type": "markdown",
     "metadata": {},
     "source": [
      "The easiest way to get these predictions into a csv file is to use the Python Pandas package:"
     ]
    },
    {
     "cell_type": "code",
     "collapsed": false,
     "input": [
      "import pandas as pd"
     ],
     "language": "python",
     "metadata": {},
     "outputs": [],
     "prompt_number": 11
    },
    {
     "cell_type": "code",
     "collapsed": false,
     "input": [
      "# This generates a csv with 1000 rows,\n",
      "# one for each draw from the posterior distribution\n",
      "pd.DataFrame(pred).to_csv(\n",
      "    model_path + '%s-%s-%s.csv'%(predict_region, predict_sex, predict_year))"
     ],
     "language": "python",
     "metadata": {},
     "outputs": [],
     "prompt_number": 19
    },
    {
     "cell_type": "code",
     "collapsed": false,
     "input": [
      "#!ls -hal hcv_replication/asia_central-male-2005.csv"
     ],
     "language": "python",
     "metadata": {},
     "outputs": [
      {
       "output_type": "stream",
       "stream": "stdout",
       "text": [
        "-rw-rw---- 1 abie Domain Users 1.6M Aug 26 16:34 hcv_replication/asia_central-male-2005.csv\r\n"
       ]
      }
     ],
     "prompt_number": 21
    },
    {
     "cell_type": "code",
     "collapsed": false,
     "input": [],
     "language": "python",
     "metadata": {},
     "outputs": []
    }
   ],
   "metadata": {}
  }
 ]
}